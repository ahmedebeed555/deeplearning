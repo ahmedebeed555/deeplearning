{
  "nbformat": 4,
  "nbformat_minor": 0,
  "metadata": {
    "colab": {
      "provenance": [],
      "authorship_tag": "ABX9TyNI0xQoB7LcPiszdodLTgHm",
      "include_colab_link": true
    },
    "kernelspec": {
      "name": "python3",
      "display_name": "Python 3"
    },
    "language_info": {
      "name": "python"
    }
  },
  "cells": [
    {
      "cell_type": "markdown",
      "metadata": {
        "id": "view-in-github",
        "colab_type": "text"
      },
      "source": [
        "<a href=\"https://colab.research.google.com/github/ahmedebeed555/deeplearning/blob/main/24Aug2025Pytorch.ipynb\" target=\"_parent\"><img src=\"https://colab.research.google.com/assets/colab-badge.svg\" alt=\"Open In Colab\"/></a>"
      ]
    },
    {
      "cell_type": "code",
      "execution_count": 5,
      "metadata": {
        "colab": {
          "base_uri": "https://localhost:8080/",
          "height": 35
        },
        "id": "ekKmJjfzM3MP",
        "outputId": "d54566c4-f680-40d7-af0b-acff07035f5e"
      },
      "outputs": [
        {
          "output_type": "execute_result",
          "data": {
            "text/plain": [
              "'2.8.0+cu126'"
            ],
            "application/vnd.google.colaboratory.intrinsic+json": {
              "type": "string"
            }
          },
          "metadata": {},
          "execution_count": 5
        }
      ],
      "source": [
        "import torch\n",
        "\n",
        "torch.__version__"
      ]
    },
    {
      "cell_type": "code",
      "source": [
        "scaler = torch.tensor(5)\n",
        "\n",
        "\n",
        "scaler\n",
        "scaler.ndim"
      ],
      "metadata": {
        "colab": {
          "base_uri": "https://localhost:8080/"
        },
        "id": "co4-JLpMNgKD",
        "outputId": "9d1d4b3c-c7d0-4dca-d3b5-94eff472da1f"
      },
      "execution_count": 15,
      "outputs": [
        {
          "output_type": "execute_result",
          "data": {
            "text/plain": [
              "0"
            ]
          },
          "metadata": {},
          "execution_count": 15
        }
      ]
    },
    {
      "cell_type": "code",
      "source": [
        "scaler.shape"
      ],
      "metadata": {
        "colab": {
          "base_uri": "https://localhost:8080/"
        },
        "id": "7Hw0LVRlOLRf",
        "outputId": "1cea6443-4302-4086-84e0-14137855f274"
      },
      "execution_count": 16,
      "outputs": [
        {
          "output_type": "execute_result",
          "data": {
            "text/plain": [
              "torch.Size([])"
            ]
          },
          "metadata": {},
          "execution_count": 16
        }
      ]
    },
    {
      "cell_type": "code",
      "source": [
        "vector = torch.tensor([1,2,3])\n",
        "\n",
        "vector"
      ],
      "metadata": {
        "colab": {
          "base_uri": "https://localhost:8080/"
        },
        "id": "3VEFriejOR9c",
        "outputId": "4d2ec3ed-a3b3-4bc3-8fae-fe6427f3bff7"
      },
      "execution_count": 17,
      "outputs": [
        {
          "output_type": "execute_result",
          "data": {
            "text/plain": [
              "tensor([1, 2, 3])"
            ]
          },
          "metadata": {},
          "execution_count": 17
        }
      ]
    },
    {
      "cell_type": "code",
      "source": [
        "vector.ndim"
      ],
      "metadata": {
        "colab": {
          "base_uri": "https://localhost:8080/"
        },
        "id": "USqyfcmGOVQS",
        "outputId": "5f86224e-0b93-40ee-a0d6-30fe110b823d"
      },
      "execution_count": 18,
      "outputs": [
        {
          "output_type": "execute_result",
          "data": {
            "text/plain": [
              "1"
            ]
          },
          "metadata": {},
          "execution_count": 18
        }
      ]
    },
    {
      "cell_type": "code",
      "source": [
        "vector.shape"
      ],
      "metadata": {
        "colab": {
          "base_uri": "https://localhost:8080/"
        },
        "id": "eaNYteocOZfA",
        "outputId": "68275c32-ec09-4b10-e2a8-ac6ac171167f"
      },
      "execution_count": 19,
      "outputs": [
        {
          "output_type": "execute_result",
          "data": {
            "text/plain": [
              "torch.Size([3])"
            ]
          },
          "metadata": {},
          "execution_count": 19
        }
      ]
    },
    {
      "cell_type": "code",
      "source": [
        "MyMatrix = torch.tensor([[1,2],[3,4]])\n",
        "\n",
        "MyMatrix"
      ],
      "metadata": {
        "colab": {
          "base_uri": "https://localhost:8080/"
        },
        "id": "8x2HybjqOd4S",
        "outputId": "86096fcd-dd8a-4375-bf4f-4174a9c7bdb5"
      },
      "execution_count": 21,
      "outputs": [
        {
          "output_type": "execute_result",
          "data": {
            "text/plain": [
              "tensor([[1, 2],\n",
              "        [3, 4]])"
            ]
          },
          "metadata": {},
          "execution_count": 21
        }
      ]
    },
    {
      "cell_type": "code",
      "source": [
        "MyMatrix.ndim"
      ],
      "metadata": {
        "colab": {
          "base_uri": "https://localhost:8080/"
        },
        "id": "T9uj6fkTOv3S",
        "outputId": "69e251e8-e3e5-4bb1-88f8-6d0b5d19da08"
      },
      "execution_count": 22,
      "outputs": [
        {
          "output_type": "execute_result",
          "data": {
            "text/plain": [
              "2"
            ]
          },
          "metadata": {},
          "execution_count": 22
        }
      ]
    },
    {
      "cell_type": "code",
      "source": [
        "MyMatrix.shape"
      ],
      "metadata": {
        "colab": {
          "base_uri": "https://localhost:8080/"
        },
        "id": "CYj1tcAKOyb3",
        "outputId": "1d65720a-ed47-4bab-b4ca-4437acbc767c"
      },
      "execution_count": 24,
      "outputs": [
        {
          "output_type": "execute_result",
          "data": {
            "text/plain": [
              "torch.Size([2, 2])"
            ]
          },
          "metadata": {},
          "execution_count": 24
        }
      ]
    },
    {
      "cell_type": "code",
      "source": [
        "MyTensor = torch.tensor([[[1,2,3,5,5],[4,5,6,2,2],[7,8,9,4,4],[1,2,3,1,1]]])\n",
        "\n",
        "MyTensor"
      ],
      "metadata": {
        "colab": {
          "base_uri": "https://localhost:8080/"
        },
        "id": "x824VouWO3uq",
        "outputId": "00d28195-1140-48f6-c02a-e91d562aedef"
      },
      "execution_count": 43,
      "outputs": [
        {
          "output_type": "execute_result",
          "data": {
            "text/plain": [
              "tensor([[[1, 2, 3, 5, 5],\n",
              "         [4, 5, 6, 2, 2],\n",
              "         [7, 8, 9, 4, 4],\n",
              "         [1, 2, 3, 1, 1]]])"
            ]
          },
          "metadata": {},
          "execution_count": 43
        }
      ]
    },
    {
      "cell_type": "code",
      "source": [
        "MyTensor.ndim"
      ],
      "metadata": {
        "colab": {
          "base_uri": "https://localhost:8080/"
        },
        "id": "Nfu0dpV5PB9p",
        "outputId": "54e595bb-1c55-4918-e27d-8e46d3f30867"
      },
      "execution_count": 44,
      "outputs": [
        {
          "output_type": "execute_result",
          "data": {
            "text/plain": [
              "3"
            ]
          },
          "metadata": {},
          "execution_count": 44
        }
      ]
    },
    {
      "cell_type": "code",
      "source": [
        "MyTensor.shape"
      ],
      "metadata": {
        "colab": {
          "base_uri": "https://localhost:8080/"
        },
        "id": "7JuFHC6IPFjK",
        "outputId": "acfd0047-fcd1-4e12-fc52-ae8a6dcc35d9"
      },
      "execution_count": 45,
      "outputs": [
        {
          "output_type": "execute_result",
          "data": {
            "text/plain": [
              "torch.Size([1, 4, 5])"
            ]
          },
          "metadata": {},
          "execution_count": 45
        }
      ]
    },
    {
      "cell_type": "code",
      "source": [
        "random_tensor = torch.rand(size=(2,5,4))\n",
        "\n",
        "random_tensor"
      ],
      "metadata": {
        "colab": {
          "base_uri": "https://localhost:8080/"
        },
        "id": "RQC0xQ9MRjzo",
        "outputId": "17007b7b-de7d-451b-bf65-f5e9313de448"
      },
      "execution_count": 47,
      "outputs": [
        {
          "output_type": "execute_result",
          "data": {
            "text/plain": [
              "tensor([[[0.3100, 0.5665, 0.0917, 0.2903],\n",
              "         [0.5766, 0.1028, 0.7844, 0.1912],\n",
              "         [0.6401, 0.7083, 0.8427, 0.2298],\n",
              "         [0.9545, 0.7656, 0.9796, 0.5309],\n",
              "         [0.7001, 0.9245, 0.5164, 0.5592]],\n",
              "\n",
              "        [[0.4521, 0.9162, 0.9366, 0.0409],\n",
              "         [0.1426, 0.6651, 0.6347, 0.7518],\n",
              "         [0.6721, 0.5828, 0.5282, 0.7875],\n",
              "         [0.3103, 0.6763, 0.1511, 0.9925],\n",
              "         [0.8441, 0.9758, 0.4534, 0.1311]]])"
            ]
          },
          "metadata": {},
          "execution_count": 47
        }
      ]
    },
    {
      "cell_type": "code",
      "source": [
        "random_tensor.ndim"
      ],
      "metadata": {
        "colab": {
          "base_uri": "https://localhost:8080/"
        },
        "id": "P-3BrlnMRuAi",
        "outputId": "96873b88-155c-42c5-e380-2270c994ddc9"
      },
      "execution_count": 48,
      "outputs": [
        {
          "output_type": "execute_result",
          "data": {
            "text/plain": [
              "3"
            ]
          },
          "metadata": {},
          "execution_count": 48
        }
      ]
    },
    {
      "cell_type": "code",
      "source": [
        "random_tensor.size"
      ],
      "metadata": {
        "colab": {
          "base_uri": "https://localhost:8080/"
        },
        "id": "PcyGe09MRwl6",
        "outputId": "c9074f29-4512-4486-d725-bea68e6de3d0"
      },
      "execution_count": 49,
      "outputs": [
        {
          "output_type": "execute_result",
          "data": {
            "text/plain": [
              "<function Tensor.size>"
            ]
          },
          "metadata": {},
          "execution_count": 49
        }
      ]
    },
    {
      "cell_type": "code",
      "source": [
        "# define random seed\n",
        "torch.manual_seed(42)\n",
        "\n",
        "# create random tensor\n",
        "random_matrix = torch.rand(size=(5,5))\n",
        "\n",
        "random_matrix"
      ],
      "metadata": {
        "colab": {
          "base_uri": "https://localhost:8080/"
        },
        "id": "gPNqSExUR05w",
        "outputId": "bd515d6e-2b1a-4b30-f3b6-9aee61b679d0"
      },
      "execution_count": 70,
      "outputs": [
        {
          "output_type": "execute_result",
          "data": {
            "text/plain": [
              "tensor([[0.8823, 0.9150, 0.3829, 0.9593, 0.3904],\n",
              "        [0.6009, 0.2566, 0.7936, 0.9408, 0.1332],\n",
              "        [0.9346, 0.5936, 0.8694, 0.5677, 0.7411],\n",
              "        [0.4294, 0.8854, 0.5739, 0.2666, 0.6274],\n",
              "        [0.2696, 0.4414, 0.2969, 0.8317, 0.1053]])"
            ]
          },
          "metadata": {},
          "execution_count": 70
        }
      ]
    },
    {
      "cell_type": "code",
      "source": [
        "random_matrix.ndim"
      ],
      "metadata": {
        "colab": {
          "base_uri": "https://localhost:8080/"
        },
        "id": "seElniVuR8hZ",
        "outputId": "de25748f-edae-450e-d11e-ee80d3bddd54"
      },
      "execution_count": 51,
      "outputs": [
        {
          "output_type": "execute_result",
          "data": {
            "text/plain": [
              "2"
            ]
          },
          "metadata": {},
          "execution_count": 51
        }
      ]
    },
    {
      "cell_type": "code",
      "source": [
        "random_matrix.shape"
      ],
      "metadata": {
        "colab": {
          "base_uri": "https://localhost:8080/"
        },
        "id": "E06xz4z3R-yR",
        "outputId": "ed4baa66-ac2d-4592-b783-95594f264f88"
      },
      "execution_count": 52,
      "outputs": [
        {
          "output_type": "execute_result",
          "data": {
            "text/plain": [
              "torch.Size([5, 5])"
            ]
          },
          "metadata": {},
          "execution_count": 52
        }
      ]
    },
    {
      "cell_type": "code",
      "source": [
        "torch.ones(size=(3,4))    # white image"
      ],
      "metadata": {
        "colab": {
          "base_uri": "https://localhost:8080/"
        },
        "id": "ZKVrT-foS0uA",
        "outputId": "bf736891-a8f2-470e-ef4b-52243e0f5c3d"
      },
      "execution_count": 71,
      "outputs": [
        {
          "output_type": "execute_result",
          "data": {
            "text/plain": [
              "tensor([[1., 1., 1., 1.],\n",
              "        [1., 1., 1., 1.],\n",
              "        [1., 1., 1., 1.]])"
            ]
          },
          "metadata": {},
          "execution_count": 71
        }
      ]
    },
    {
      "cell_type": "code",
      "source": [
        "torch.zeros(size=(3,4))   # black image"
      ],
      "metadata": {
        "colab": {
          "base_uri": "https://localhost:8080/"
        },
        "id": "MwtkUtPHS9HP",
        "outputId": "af44aff2-6cdc-4271-d050-5dd133da9e73"
      },
      "execution_count": 72,
      "outputs": [
        {
          "output_type": "execute_result",
          "data": {
            "text/plain": [
              "tensor([[0., 0., 0., 0.],\n",
              "        [0., 0., 0., 0.],\n",
              "        [0., 0., 0., 0.]])"
            ]
          },
          "metadata": {},
          "execution_count": 72
        }
      ]
    },
    {
      "cell_type": "code",
      "source": [
        "torch.manual_seed(42)\n",
        "\n",
        "tensor1 = torch.rand(size=[5,5])\n",
        "tensor2 = torch.rand(size=[5,3])\n",
        "\n",
        "tensor1 @ tensor2    # matrix multiplication\n"
      ],
      "metadata": {
        "colab": {
          "base_uri": "https://localhost:8080/"
        },
        "id": "ds7dlwXjTG0X",
        "outputId": "92363e62-f3c4-4814-80f6-e3e6d1f3aaaa"
      },
      "execution_count": 89,
      "outputs": [
        {
          "output_type": "execute_result",
          "data": {
            "text/plain": [
              "tensor([[1.4441, 1.6540, 1.9579],\n",
              "        [0.8001, 1.7553, 1.4161],\n",
              "        [1.5037, 1.9796, 1.8400],\n",
              "        [1.3006, 1.2317, 1.6317],\n",
              "        [0.7125, 1.0938, 1.1636]])"
            ]
          },
          "metadata": {},
          "execution_count": 89
        }
      ]
    },
    {
      "cell_type": "code",
      "source": [
        "tensor1.matmul(tensor2)"
      ],
      "metadata": {
        "colab": {
          "base_uri": "https://localhost:8080/"
        },
        "id": "d7mLgRq0UILg",
        "outputId": "5141b6ba-2a86-4c20-abc2-817a8f0d86c7"
      },
      "execution_count": 90,
      "outputs": [
        {
          "output_type": "execute_result",
          "data": {
            "text/plain": [
              "tensor([[1.4441, 1.6540, 1.9579],\n",
              "        [0.8001, 1.7553, 1.4161],\n",
              "        [1.5037, 1.9796, 1.8400],\n",
              "        [1.3006, 1.2317, 1.6317],\n",
              "        [0.7125, 1.0938, 1.1636]])"
            ]
          },
          "metadata": {},
          "execution_count": 90
        }
      ]
    },
    {
      "cell_type": "code",
      "source": [
        "tensor2.multiply(tensor1)"
      ],
      "metadata": {
        "colab": {
          "base_uri": "https://localhost:8080/",
          "height": 141
        },
        "id": "HMwmVjdeURgQ",
        "outputId": "23652dc8-cdd1-4b4e-c45b-30481e21efbd"
      },
      "execution_count": 96,
      "outputs": [
        {
          "output_type": "error",
          "ename": "RuntimeError",
          "evalue": "The size of tensor a (3) must match the size of tensor b (5) at non-singleton dimension 1",
          "traceback": [
            "\u001b[0;31m---------------------------------------------------------------------------\u001b[0m",
            "\u001b[0;31mRuntimeError\u001b[0m                              Traceback (most recent call last)",
            "\u001b[0;32m/tmp/ipython-input-589062207.py\u001b[0m in \u001b[0;36m<cell line: 0>\u001b[0;34m()\u001b[0m\n\u001b[0;32m----> 1\u001b[0;31m \u001b[0mtensor2\u001b[0m\u001b[0;34m.\u001b[0m\u001b[0mmultiply\u001b[0m\u001b[0;34m(\u001b[0m\u001b[0mtensor1\u001b[0m\u001b[0;34m)\u001b[0m\u001b[0;34m\u001b[0m\u001b[0;34m\u001b[0m\u001b[0m\n\u001b[0m",
            "\u001b[0;31mRuntimeError\u001b[0m: The size of tensor a (3) must match the size of tensor b (5) at non-singleton dimension 1"
          ]
        }
      ]
    },
    {
      "cell_type": "code",
      "source": [
        "torch.nn.Linear(in_features = 2 , out_features = 5)"
      ],
      "metadata": {
        "colab": {
          "base_uri": "https://localhost:8080/"
        },
        "id": "ktvWFahMVHU5",
        "outputId": "11ad069b-1298-4254-8fd6-ea5a16186e0e"
      },
      "execution_count": 97,
      "outputs": [
        {
          "output_type": "execute_result",
          "data": {
            "text/plain": [
              "Linear(in_features=2, out_features=5, bias=True)"
            ]
          },
          "metadata": {},
          "execution_count": 97
        }
      ]
    },
    {
      "cell_type": "code",
      "source": [
        "tesnor_a = torch.tensor([   [3,4],\n",
        "                     [2,5],\n",
        "                     [1,3]\n",
        "                          ]    , dtype=torch.float)"
      ],
      "metadata": {
        "id": "ChdjfRxYVe9X"
      },
      "execution_count": 101,
      "outputs": []
    },
    {
      "cell_type": "code",
      "source": [
        "linear = torch.nn.Linear(in_features=2, out_features=1)\n",
        "linear(tesnor_a)"
      ],
      "metadata": {
        "colab": {
          "base_uri": "https://localhost:8080/"
        },
        "id": "h5P7RbdgV8g5",
        "outputId": "0fc54650-ffb1-43fa-dd73-0c1badd5e198"
      },
      "execution_count": 111,
      "outputs": [
        {
          "output_type": "execute_result",
          "data": {
            "text/plain": [
              "tensor([[-3.6428],\n",
              "        [-3.6491],\n",
              "        [-2.3576]], grad_fn=<AddmmBackward0>)"
            ]
          },
          "metadata": {},
          "execution_count": 111
        }
      ]
    }
  ]
}